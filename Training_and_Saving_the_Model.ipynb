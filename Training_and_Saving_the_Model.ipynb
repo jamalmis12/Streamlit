{
  "nbformat": 4,
  "nbformat_minor": 0,
  "metadata": {
    "colab": {
      "provenance": [],
      "gpuType": "T4"
    },
    "kernelspec": {
      "name": "python3",
      "display_name": "Python 3"
    },
    "language_info": {
      "name": "python"
    },
    "accelerator": "GPU"
  },
  "cells": [
    {
      "cell_type": "markdown",
      "source": [
        "## **Instructions**\n",
        "\n"
      ],
      "metadata": {
        "id": "b3rQkVOxsoPN"
      }
    },
    {
      "cell_type": "markdown",
      "source": [
        "## **Dataset Explanation and problem being addressed**\n",
        "\n",
        "### This dataset is from kaggle and it has two folders inside namely Training and Testing which includes different pictures of crows, bears, elephants, and rats separated in each specific folder. This dataset I got from kaggle has its own partition when it comes to train and test data. That is why I did not do the splitting for this dataset.\n",
        "\n",
        "\n",
        "### The problem being addressed here is a prediction of multiple classification. It is used to predict the animal shown in the picture or in the sample, which can be a help in developing computer vision projects and tasks. This dataset is being processed and used in convolution nueral network model in this activity.\n",
        "\n",
        "Dataset Link: https://www.kaggle.com/datasets/ikjotsingh221/animal-dataset"
      ],
      "metadata": {
        "id": "LKTF0Ni7tnBz"
      }
    },
    {
      "cell_type": "code",
      "source": [
        "# For storing dataset in drive\n",
        "\n",
        "from google.colab import drive\n",
        "drive.mount('/content/drive')"
      ],
      "metadata": {
        "colab": {
          "base_uri": "https://localhost:8080/"
        },
        "id": "3G8HF8Lxc4Jk",
        "outputId": "354eb9e3-b824-4041-9cb7-c89ff54c09a9"
      },
      "execution_count": null,
      "outputs": [
        {
          "output_type": "stream",
          "name": "stdout",
          "text": [
            "Mounted at /content/drive\n"
          ]
        }
      ]
    },
    {
      "cell_type": "markdown",
      "source": [
        "###"
      ],
      "metadata": {
        "id": "H8SVYRf5wVge"
      }
    },
    {
      "cell_type": "code",
      "execution_count": null,
      "metadata": {
        "id": "-gmLoz0msa8L"
      },
      "outputs": [],
      "source": [
        "# Loading the dataset\n",
        "\n",
        "dataset_path = '/content/drive/MyDrive/Final_Project_Team_7/animal_dataset'"
      ]
    },
    {
      "cell_type": "code",
      "source": [
        "# Preprocessing (Reshaping images, turning classmode to categorical)\n",
        "\n",
        "import os\n",
        "import cv2\n",
        "\n",
        "# Function to reshape images\n",
        "def reshape_images(directory, target_shape=(224, 224)):\n",
        "    for animal_folder in os.listdir(directory):\n",
        "        # Check if the item is a directory\n",
        "        if os.path.isdir(os.path.join(directory, animal_folder)):\n",
        "            for root, dirs, files in os.walk(os.path.join(directory, animal_folder)):\n",
        "                for file in files:\n",
        "                    # Check if the file is an image\n",
        "                    if file.endswith(\".jpg\") or file.endswith(\".jpeg\") or file.endswith(\".png\"):\n",
        "                        image_path = os.path.join(root, file)\n",
        "                        # Read the image\n",
        "                        image = cv2.imread(image_path)\n",
        "                        # Resize the image\n",
        "                        resized_image = cv2.resize(image, (target_shape[1], target_shape[0]))\n",
        "                        # Check if the image has 3 channels (RGB)\n",
        "                        if resized_image.shape[2] == 3:\n",
        "                            # Overwrite the original image with the resized image\n",
        "                            cv2.imwrite(image_path, resized_image)\n",
        "                        else:\n",
        "                            print(f\"Skipping {image_path} as it does not have 3 channels (RGB)\")\n",
        "\n",
        "# Directory containing the images\n",
        "dataset_path = \"/content/drive/MyDrive/Final_Project_Team_7/animal_dataset\"\n",
        "\n",
        "# Reshape images in the Training folder\n",
        "reshape_images(os.path.join(dataset_path, \"Training\"))\n",
        "\n",
        "# Reshape images in the Testing folder\n",
        "reshape_images(os.path.join(dataset_path, \"Testing\"))\n"
      ],
      "metadata": {
        "id": "vcxGNeB4wrFq"
      },
      "execution_count": null,
      "outputs": []
    },
    {
      "cell_type": "code",
      "source": [
        "from PIL import Image\n",
        "import os\n",
        "\n",
        "image_dir = '/content/drive/MyDrive/Final_Project_Team_7/animal_dataset/Testing/bears/k4 (100).jpeg'\n",
        "\n",
        "# Loading the image to check its dimensions and channel\n",
        "image = Image.open(image_dir)\n",
        "image.show()\n",
        "print(\"Image dimensions:\", image.size)\n",
        "print(\"Image mode:\", image.mode)\n"
      ],
      "metadata": {
        "colab": {
          "base_uri": "https://localhost:8080/"
        },
        "id": "eEUa4Iko5StI",
        "outputId": "9d0acf5a-2cf5-4e33-f0d1-990e4398c352"
      },
      "execution_count": null,
      "outputs": [
        {
          "output_type": "stream",
          "name": "stdout",
          "text": [
            "Image dimensions: (224, 224)\n",
            "Image mode: RGB\n"
          ]
        }
      ]
    },
    {
      "cell_type": "code",
      "source": [
        "import os\n",
        "import numpy as np\n",
        "from keras.preprocessing.image import ImageDataGenerator\n",
        "from keras.models import Sequential\n",
        "from keras.layers import Conv2D, MaxPooling2D, Flatten, Dense, Dropout\n",
        "from keras.callbacks import EarlyStopping\n",
        "from keras import regularizers\n",
        "import matplotlib.pyplot as plt\n",
        "import time\n",
        "\n",
        "img_h = 224\n",
        "img_w = 224\n",
        "batch_size = 32\n",
        "\n",
        "# Function to load dataset\n",
        "def load_dataset(train_dir, test_dir):\n",
        "    train_datagen = ImageDataGenerator(rescale=1./255)\n",
        "    test_datagen = ImageDataGenerator(rescale=1./255)\n",
        "\n",
        "    train_generator = train_datagen.flow_from_directory(\n",
        "        train_dir,\n",
        "        target_size=(img_h, img_w),\n",
        "        batch_size=batch_size,\n",
        "        class_mode='categorical'\n",
        "    )\n",
        "\n",
        "    test_generator = test_datagen.flow_from_directory(\n",
        "        test_dir,\n",
        "        target_size=(img_h, img_w),\n",
        "        batch_size=batch_size,\n",
        "        class_mode='categorical'\n",
        "    )\n",
        "\n",
        "    return train_generator, test_generator\n",
        "\n",
        "early_stopping = EarlyStopping(monitor='val_accuracy', patience=5, restore_best_weights=True)\n",
        "\n",
        "model = Sequential([\n",
        "    Conv2D(32, (3, 3), activation='relu', input_shape=(img_h, img_w, 3)),\n",
        "    MaxPooling2D((2, 2)),\n",
        "    Conv2D(64, (3, 3), activation='relu'),\n",
        "    MaxPooling2D((2, 2)),\n",
        "    Conv2D(128, (3, 3), activation='relu'),\n",
        "    MaxPooling2D((2, 2)),\n",
        "    Flatten(),\n",
        "    Dense(512, activation='relu', kernel_regularizer=regularizers.l2(0.001)),\n",
        "    Dropout(0.5),\n",
        "    Dense(256, activation='relu', kernel_regularizer=regularizers.l2(0.001)),\n",
        "    Dropout(0.5),\n",
        "    Dense(128, activation='relu', kernel_regularizer=regularizers.l2(0.001)),\n",
        "    Dropout(0.5),\n",
        "    Dense(4, activation='softmax')\n",
        "])\n",
        "\n",
        "# Compile the model\n",
        "model.compile(optimizer='adam', loss='categorical_crossentropy', metrics=['accuracy'])\n",
        "\n",
        "# Function to prepare pixel data\n",
        "def prep_pixels(trainX, testX):\n",
        "    trainX = trainX.astype('float32') / 255.0\n",
        "    testX = testX.astype('float32') / 255.0\n",
        "    return trainX, testX\n",
        "\n",
        "# Function to evaluate model\n",
        "def evaluate_model(model, train_generator, test_generator):\n",
        "    early_stopping = EarlyStopping(monitor='val_accuracy', patience=5, restore_best_weights=True)\n",
        "    history = model.fit(train_generator, epochs=10, validation_data=test_generator, callbacks=[early_stopping])\n",
        "    _, test_acc = model.evaluate(test_generator)\n",
        "    print('Test accuracy:', test_acc)\n",
        "    return history\n",
        "\n",
        "# Function to summarize diagnostics\n",
        "def summarize_diagnostics(history):\n",
        "    plt.plot(history.history['accuracy'], label='train accuracy')\n",
        "    plt.plot(history.history['val_accuracy'], label='validation accuracy')\n",
        "    plt.plot(history.history['loss'], label='train loss')\n",
        "    plt.plot(history.history['val_loss'], label='validation loss')\n",
        "    plt.xlabel('Epoch')\n",
        "    plt.ylabel('Accuracy / Loss')\n",
        "    plt.legend()\n",
        "    plt.show()\n",
        "\n",
        "# Function to summarize performance\n",
        "def summarize_performance(scores):\n",
        "    print('Accuracy: mean=%.3f std=%.3f, n=%d' % (np.mean(scores), np.std(scores), len(scores)))\n",
        "\n",
        "# Entry point, run the test harness\n",
        "def run_test_harness(train_dir, test_dir):\n",
        "    start_time = time.time()\n",
        "    # Load dataset\n",
        "    train_generator, test_generator = load_dataset(train_dir, test_dir)\n",
        "    # Evaluate model\n",
        "    history = evaluate_model(model, train_generator, test_generator)\n",
        "    # Summarize diagnostics\n",
        "    summarize_diagnostics(history)\n",
        "    end_time = time.time()\n",
        "    total_time = end_time - start_time\n",
        "    print(\"Total time taken:\", total_time, \"seconds\")\n",
        "\n",
        "train_dir = '/content/drive/MyDrive/Final_Project_Team_7/animal_dataset/Training'\n",
        "test_dir = '/content/drive/MyDrive/Final_Project_Team_7/animal_dataset/Testing'\n",
        "\n",
        "# Run the test harness\n",
        "run_test_harness(train_dir, test_dir)\n"
      ],
      "metadata": {
        "colab": {
          "base_uri": "https://localhost:8080/",
          "height": 906
        },
        "id": "_tMjui4vdeaf",
        "outputId": "9d4a7eeb-9df6-436f-a713-9f7c022e5b1d"
      },
      "execution_count": null,
      "outputs": [
        {
          "output_type": "stream",
          "name": "stdout",
          "text": [
            "Found 1244 images belonging to 4 classes.\n",
            "Found 326 images belonging to 4 classes.\n",
            "Epoch 1/10\n",
            "39/39 [==============================] - 20s 300ms/step - loss: 2.7906 - accuracy: 0.2974 - val_loss: 2.2896 - val_accuracy: 0.2914\n",
            "Epoch 2/10\n",
            "39/39 [==============================] - 7s 191ms/step - loss: 2.1043 - accuracy: 0.3119 - val_loss: 1.9302 - val_accuracy: 0.3067\n",
            "Epoch 3/10\n",
            "39/39 [==============================] - 9s 217ms/step - loss: 1.8505 - accuracy: 0.3706 - val_loss: 1.6505 - val_accuracy: 0.5368\n",
            "Epoch 4/10\n",
            "39/39 [==============================] - 8s 197ms/step - loss: 1.6540 - accuracy: 0.5056 - val_loss: 1.4363 - val_accuracy: 0.5368\n",
            "Epoch 5/10\n",
            "39/39 [==============================] - 8s 197ms/step - loss: 1.4044 - accuracy: 0.6190 - val_loss: 1.0783 - val_accuracy: 0.8129\n",
            "Epoch 6/10\n",
            "39/39 [==============================] - 9s 223ms/step - loss: 1.2481 - accuracy: 0.7629 - val_loss: 0.9514 - val_accuracy: 0.9540\n",
            "Epoch 7/10\n",
            "39/39 [==============================] - 8s 217ms/step - loss: 1.1140 - accuracy: 0.8368 - val_loss: 0.7803 - val_accuracy: 0.9785\n",
            "Epoch 8/10\n",
            "39/39 [==============================] - 7s 185ms/step - loss: 1.0694 - accuracy: 0.8650 - val_loss: 0.8024 - val_accuracy: 0.9755\n",
            "Epoch 9/10\n",
            "39/39 [==============================] - 9s 218ms/step - loss: 0.9218 - accuracy: 0.9220 - val_loss: 0.6968 - val_accuracy: 1.0000\n",
            "Epoch 10/10\n",
            "39/39 [==============================] - 9s 229ms/step - loss: 0.8133 - accuracy: 0.9566 - val_loss: 0.6693 - val_accuracy: 0.9969\n",
            "11/11 [==============================] - 2s 137ms/step - loss: 0.6693 - accuracy: 0.9969\n",
            "Test accuracy: 0.9969325065612793\n"
          ]
        },
        {
          "output_type": "display_data",
          "data": {
            "text/plain": [
              "<Figure size 640x480 with 1 Axes>"
            ],
            "image/png": "[encoded data removed]"
          },
          "metadata": {}
        },
        {
          "output_type": "stream",
          "name": "stdout",
          "text": [
            "Total time taken: 106.18672132492065 seconds\n"
          ]
        }
      ]
    },
    {
      "cell_type": "code",
      "source": [
        "# save model and architecture to single file\n",
        "model.save(\"animals_classifier.hdf5\")\n",
        "print(\"Saved model to disk\")"
      ],
      "metadata": {
        "colab": {
          "base_uri": "https://localhost:8080/"
        },
        "id": "QIPiilO4SwQy",
        "outputId": "d063a93f-f540-4f02-8716-c88abf057957"
      },
      "execution_count": null,
      "outputs": [
        {
          "output_type": "stream",
          "name": "stderr",
          "text": [
            "/usr/local/lib/python3.10/dist-packages/keras/src/engine/training.py:3103: UserWarning: You are saving your model as an HDF5 file via `model.save()`. This file format is considered legacy. We recommend using instead the native Keras format, e.g. `model.save('my_model.keras')`.\n",
            "  saving_api.save_model(\n"
          ]
        },
        {
          "output_type": "stream",
          "name": "stdout",
          "text": [
            "Saved model to disk\n"
          ]
        }
      ]
    }
  ]
}